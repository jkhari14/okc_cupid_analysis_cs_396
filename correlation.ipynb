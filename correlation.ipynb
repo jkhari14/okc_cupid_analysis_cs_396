{
 "cells": [
  {
   "cell_type": "code",
   "execution_count": 1,
   "id": "8f2c2cf3-4f9d-4cc6-9f14-c6903797bf27",
   "metadata": {},
   "outputs": [],
   "source": [
    "import json;\n",
    "import pandas as pd;\n",
    "import scipy;\n",
    "from scipy import stats;\n",
    "# from apyori import apriori;\n",
    "import matplotlib.pyplot as plt;\n",
    "import numpy;\n",
    "df = pd.read_csv(\"okcupid-profiles-pets.csv\"); # , lines=True, chunksize=10000000\n"
   ]
  },
  {
   "cell_type": "code",
   "execution_count": 2,
   "id": "af3bc047-e950-41a1-b5ab-6e8f58a7118c",
   "metadata": {},
   "outputs": [
    {
     "data": {
      "text/plain": [
       "'print(pets_dict)\\nprint(no_pets_dict)\\nprint(len(pets_dict) == len(no_pets_dict))\\nplt.scatter()'"
      ]
     },
     "execution_count": 2,
     "metadata": {},
     "output_type": "execute_result"
    }
   ],
   "source": [
    "pets_dict = {}\n",
    "no_pets_dict = {}\n",
    "for i in range(df.shape[0]):\n",
    "    entry = df.iloc[i]\n",
    "    age = entry['age']\n",
    "    if 'has' in entry['pets']:\n",
    "        if age in pets_dict:\n",
    "            pets_dict[age] += 1\n",
    "        else:\n",
    "            pets_dict[age] = 1\n",
    "    else:\n",
    "        if age in no_pets_dict:\n",
    "            no_pets_dict[age] += 1\n",
    "        else:\n",
    "            no_pets_dict[age] = 1\n",
    "\n",
    "\n",
    "    \n",
    "    \n",
    "\"\"\"print(pets_dict)\n",
    "print(no_pets_dict)\n",
    "print(len(pets_dict) == len(no_pets_dict))\n",
    "plt.scatter()\"\"\""
   ]
  },
  {
   "cell_type": "code",
   "execution_count": 3,
   "id": "0c8ddb78-0cd9-4eec-8b0f-96fca558d30a",
   "metadata": {},
   "outputs": [
    {
     "name": "stdout",
     "output_type": "stream",
     "text": [
      "Linear Correlations:\n",
      "    Pearson Correlation: (0.5091401504852762, 0.00011595811040015601)\n",
      "    Spearman Correlation: SpearmanrResult(correlation=0.48945615982241947, pvalue=0.00023102452470121016)\n",
      "Interestingly the correlation seen here is almost sinusoidal\n"
     ]
    },
    {
     "data": {
      "image/png": "[encoded data removed]",
      "text/plain": [
       "<Figure size 432x288 with 1 Axes>"
      ]
     },
     "metadata": {
      "needs_background": "light"
     },
     "output_type": "display_data"
    }
   ],
   "source": [
    "x = sorted(pets_dict.keys())\n",
    "y = []\n",
    "for num in x:\n",
    "    pts = pets_dict[num]\n",
    "    npts = no_pets_dict[num]\n",
    "    y.append(pts/(npts + pts))\n",
    "    \n",
    "plt.scatter(x, y)\n",
    "print(\"Linear Correlations:\")\n",
    "print(f\"    Pearson Correlation: {stats.pearsonr(x, y)}\")\n",
    "print(f\"    Spearman Correlation: {stats.spearmanr(x, y)}\")\n",
    "print(\"Interestingly the correlation seen here is almost sinusoidal\")"
   ]
  },
  {
   "cell_type": "code",
   "execution_count": 4,
   "id": "25422ce8-097d-49f6-8ed1-bcaafa199a0c",
   "metadata": {},
   "outputs": [
    {
     "name": "stdout",
     "output_type": "stream",
     "text": [
      "Parameters [18.8436532  69.2658463   0.42195676]\n",
      "RMSE: 0.0783722245291344\n",
      "R-squared: 0.00013433672036899935\n"
     ]
    },
    {
     "data": {
      "image/png": "[encoded data removed]",
      "text/plain": [
       "<Figure size 800x600 with 1 Axes>"
      ]
     },
     "metadata": {
      "needs_background": "light"
     },
     "output_type": "display_data"
    }
   ],
   "source": [
    "from scipy.optimize import curve_fit\n",
    "from scipy.optimize import differential_evolution\n",
    "import warnings\n",
    "\n",
    "xData = x\n",
    "yData = y\n",
    "\n",
    "def func(x, a, b, Offset): # Sigmoid A With Offset from zunzun.com\n",
    "    return  1.0 / (1.0 + numpy.exp(-a * (x-b))) + Offset\n",
    "\n",
    "\n",
    "# function for genetic algorithm to minimize (sum of squared error)\n",
    "def sumOfSquaredError(parameterTuple):\n",
    "    warnings.filterwarnings(\"ignore\") # do not print warnings by genetic algorithm\n",
    "    val = func(xData, *parameterTuple)\n",
    "    return numpy.sum((yData - val) ** 2.0)\n",
    "\n",
    "\n",
    "def generate_Initial_Parameters():\n",
    "    # min and max used for bounds\n",
    "    maxX = max(xData)\n",
    "    minX = min(xData)\n",
    "    maxY = max(yData)\n",
    "    minY = min(yData)\n",
    "\n",
    "    parameterBounds = []\n",
    "    parameterBounds.append([minX, maxX]) # search bounds for a\n",
    "    parameterBounds.append([minX, maxX]) # search bounds for b\n",
    "    parameterBounds.append([0.0, maxY]) # search bounds for Offset\n",
    "    \n",
    "# \"seed\" the numpy random number generator for repeatable results\n",
    "    result = differential_evolution(sumOfSquaredError, parameterBounds, seed=3)\n",
    "    return result.x\n",
    "\n",
    "# generate initial parameter values\n",
    "geneticParameters = generate_Initial_Parameters()\n",
    "\n",
    "# curve fit the test data\n",
    "fittedParameters, pcov = curve_fit(func, xData, yData, geneticParameters)\n",
    "\n",
    "print('Parameters', fittedParameters)\n",
    "\n",
    "modelPredictions = func(xData, *fittedParameters) \n",
    "\n",
    "absError = modelPredictions - yData\n",
    "\n",
    "SE = numpy.square(absError) # squared errors\n",
    "MSE = numpy.mean(SE) # mean squared errors\n",
    "RMSE = numpy.sqrt(MSE) # Root Mean Squared Error, RMSE\n",
    "Rsquared = 1.0 - (numpy.var(absError) / numpy.var(yData))\n",
    "print('RMSE:', RMSE)\n",
    "print('R-squared:', Rsquared)\n",
    "\n",
    "\n",
    "\n",
    "##########################################################\n",
    "# graphics output section\n",
    "def ModelAndScatterPlot(graphWidth, graphHeight):\n",
    "    f = plt.figure(figsize=(graphWidth/100.0, graphHeight/100.0), dpi=100)\n",
    "    axes = f.add_subplot(111)\n",
    "\n",
    "    # first the raw data as a scatter plot\n",
    "    axes.plot(xData, yData,  'D')\n",
    "\n",
    "    # create data for the fitted equation plot\n",
    "    xModel = numpy.linspace(min(xData), max(xData))\n",
    "    yModel = func(xModel, *fittedParameters)\n",
    "\n",
    "    # now the model as a line plot \n",
    "    axes.plot(xModel, yModel)\n",
    "\n",
    "    axes.set_xlabel('X Data') # X axis data label\n",
    "    axes.set_ylabel('Y Data') # Y axis data label\n",
    "\n",
    "    plt.show()\n",
    "    plt.close('all') # clean up after using pyplot\n",
    "\n",
    "graphWidth = 800\n",
    "graphHeight = 600\n",
    "ModelAndScatterPlot(graphWidth, graphHeight)"
   ]
  },
  {
   "cell_type": "code",
   "execution_count": null,
   "id": "9bef03bb-6ea8-4e29-84ef-81936f623346",
   "metadata": {},
   "outputs": [],
   "source": []
  }
 ],
 "metadata": {
  "kernelspec": {
   "display_name": "Python 3 (ipykernel)",
   "language": "python",
   "name": "python3"
  },
  "language_info": {
   "codemirror_mode": {
    "name": "ipython",
    "version": 3
   },
   "file_extension": ".py",
   "mimetype": "text/x-python",
   "name": "python",
   "nbconvert_exporter": "python",
   "pygments_lexer": "ipython3",
   "version": "3.9.12"
  }
 },
 "nbformat": 4,
 "nbformat_minor": 5
}
