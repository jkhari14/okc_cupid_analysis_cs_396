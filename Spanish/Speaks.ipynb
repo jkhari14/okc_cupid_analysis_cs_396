{
 "cells": [
  {
   "cell_type": "code",
   "execution_count": 1,
   "id": "37dc831b-20bc-4263-a565-cb6c78a8a305",
   "metadata": {},
   "outputs": [],
   "source": [
    "from sklearn.model_selection import train_test_split\n",
    "from sklearn import preprocessing\n",
    "from sklearn.tree import DecisionTreeClassifier\n",
    "from sklearn.model_selection import cross_validate\n",
    "import numpy as np\n",
    "import pandas as pd\n",
    "import matplotlib.pyplot as plt"
   ]
  },
  {
   "cell_type": "code",
   "execution_count": 2,
   "id": "7dbd0133-fd44-460e-9610-e48ad28dfee6",
   "metadata": {
    "tags": []
   },
   "outputs": [],
   "source": [
    "df = pd.read_csv('education.csv')\n",
    "speaks = df['speaks'].str.contains('spanish')\n",
    "\n",
    "# binary target"
   ]
  },
  {
   "cell_type": "code",
   "execution_count": 3,
   "id": "524296f3-d635-4a2c-a911-83bac97ff564",
   "metadata": {},
   "outputs": [],
   "source": [
    "education = ['graduated from college/university', 'graduated from high school', 'graduated from masters program', 'graduated from ph.d program']\n",
    "diet = ['anything', 'other', 'kosher', 'halal', 'vegan', 'vegetarian']\n",
    "religion = ['agnosticism', 'atheism', 'buddhism', 'catholicism', 'christianity', 'hinduism', 'islam', 'judaism', 'other']\n",
    "\n",
    "enc = preprocessing.OneHotEncoder(categories=[education, diet, religion])\n",
    "\n",
    "ohe = df[['education', 'diet', 'religion']]\n",
    "ohe = enc.fit_transform(ohe).toarray()\n",
    "\n",
    "# categorical features preprocessing"
   ]
  },
  {
   "cell_type": "code",
   "execution_count": 4,
   "id": "3ef6d49b-a23c-460a-8561-a7ff1978205d",
   "metadata": {
    "tags": []
   },
   "outputs": [],
   "source": [
    "ethnicity = df[\"ethnicity\"].str.split(pat = \", \", expand=True).apply(lambda x : x.value_counts(), axis = 1).fillna(0).astype(int).to_numpy()\n",
    "\n",
    "# multilabel preprocessing(not sure if this is correct)"
   ]
  },
  {
   "cell_type": "code",
   "execution_count": 5,
   "id": "fed2ec36-0054-4e10-85b7-27004a3400a0",
   "metadata": {
    "tags": []
   },
   "outputs": [],
   "source": [
    "X = np.concatenate((ohe, ethnicity), axis=1)\n",
    "y = df['speaks']\n",
    "X_train, X_test, y_train, y_test = train_test_split(X,y,test_size=0.2,random_state=0)"
   ]
  },
  {
   "cell_type": "code",
   "execution_count": 6,
   "id": "fdc5e3b8-ce7e-4a0f-9760-3501846a2ef8",
   "metadata": {},
   "outputs": [
    {
     "name": "stderr",
     "output_type": "stream",
     "text": [
      "E:\\anaconda3\\lib\\site-packages\\sklearn\\model_selection\\_split.py:676: UserWarning: The least populated class in y has only 1 members, which is less than n_splits=3.\n",
      "  warnings.warn(\n"
     ]
    },
    {
     "data": {
      "text/plain": [
       "0.12812315602817745"
      ]
     },
     "execution_count": 6,
     "metadata": {},
     "output_type": "execute_result"
    }
   ],
   "source": [
    "dtc = DecisionTreeClassifier()\n",
    "dtc.fit(X_train, y_train)\n",
    "cv_results = cross_validate(dtc, X_train, y_train, cv=3, scoring='f1_weighted')\n",
    "cv_results['test_score'].mean()\n",
    "\n",
    "# the score drops after the multilabel preprocessing???"
   ]
  },
  {
   "cell_type": "code",
   "execution_count": null,
   "id": "40ac5964-2f72-4c88-8988-eb1f97bdae39",
   "metadata": {},
   "outputs": [],
   "source": []
  }
 ],
 "metadata": {
  "kernelspec": {
   "display_name": "Python 3 (ipykernel)",
   "language": "python",
   "name": "python3"
  },
  "language_info": {
   "codemirror_mode": {
    "name": "ipython",
    "version": 3
   },
   "file_extension": ".py",
   "mimetype": "text/x-python",
   "name": "python",
   "nbconvert_exporter": "python",
   "pygments_lexer": "ipython3",
   "version": "3.9.12"
  }
 },
 "nbformat": 4,
 "nbformat_minor": 5
}
