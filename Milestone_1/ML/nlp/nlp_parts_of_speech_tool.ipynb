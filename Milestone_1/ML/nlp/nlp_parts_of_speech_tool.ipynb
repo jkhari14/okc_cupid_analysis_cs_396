{
 "cells": [
  {
   "cell_type": "code",
   "execution_count": 3,
   "id": "8ca11ae5",
   "metadata": {},
   "outputs": [],
   "source": [
    "import pandas as pd\n",
    "import numpy as np\n",
    "import matplotlib.pyplot as plt\n",
    "from statistics import mean\n",
    "from nltk.corpus import wordnet as wn\n",
    "import nltk\n",
    "from __future__ import unicode_literals\n",
    "import spacy\n",
    "import textacy\n",
    "nlp = spacy.load(\"en_core_web_sm\")\n",
    "\n",
    "from sklearn.neighbors import KNeighborsClassifier"
   ]
  },
  {
   "cell_type": "code",
   "execution_count": 4,
   "id": "a9be14ea",
   "metadata": {
    "scrolled": false
   },
   "outputs": [
    {
     "name": "stderr",
     "output_type": "stream",
     "text": [
      "IOPub data rate exceeded.\n",
      "The notebook server will temporarily stop sending output\n",
      "to the client in order to avoid crashing it.\n",
      "To change this limit, set the config variable\n",
      "`--NotebookApp.iopub_data_rate_limit`.\n",
      "\n",
      "Current values:\n",
      "NotebookApp.iopub_data_rate_limit=1000000.0 (bytes/sec)\n",
      "NotebookApp.rate_limit_window=3.0 (secs)\n",
      "\n"
     ]
    }
   ],
   "source": [
    "pattern = [{'POS':'VERB'}]\n",
    "def tagging(txt):\n",
    "    verbs = set()\n",
    "    for verb_span in textacy.extract.matches.token_matches(doc, patterns=pattern):\n",
    "        verbs.add(verb_span)\n",
    "    return verbs\n",
    "\n",
    "\n",
    "age_income = pd.read_csv(\"okcupid_essays.csv\")\n",
    "all_verbs = set()\n",
    "\n",
    "X = age_income[\"essay0\"]\n",
    "for x in X:\n",
    "    if type(x) is float:\n",
    "        continue\n",
    "    doc = nlp(x)\n",
    "    all_verbs.update(tagging(doc))"
   ]
  },
  {
   "cell_type": "code",
   "execution_count": null,
   "id": "87c199c3",
   "metadata": {},
   "outputs": [],
   "source": []
  }
 ],
 "metadata": {
  "kernelspec": {
   "display_name": "Python 3 (ipykernel)",
   "language": "python",
   "name": "python3"
  },
  "language_info": {
   "codemirror_mode": {
    "name": "ipython",
    "version": 3
   },
   "file_extension": ".py",
   "mimetype": "text/x-python",
   "name": "python",
   "nbconvert_exporter": "python",
   "pygments_lexer": "ipython3",
   "version": "3.10.8"
  }
 },
 "nbformat": 4,
 "nbformat_minor": 5
}
