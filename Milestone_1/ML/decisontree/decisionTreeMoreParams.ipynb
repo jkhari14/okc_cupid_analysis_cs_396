{
 "cells": [
  {
   "cell_type": "code",
   "execution_count": 107,
   "id": "618d8a00-58e5-465d-85c9-4e94057d3d7f",
   "metadata": {},
   "outputs": [
    {
     "name": "stdout",
     "output_type": "stream",
     "text": [
      "{'gemini': 3, 'cancer': 4, 'sagittarius': 9, 'cancer but it doesn&rsquo;t matter': 4, 'leo but it doesn&rsquo;t matter': 5, 'taurus': 2, 'libra but it doesn&rsquo;t matter': 7, 'pisces and it&rsquo;s fun to think about': 12, 'libra': 7, 'sagittarius but it doesn&rsquo;t matter': 9, 'aquarius but it doesn&rsquo;t matter': 11, 'scorpio and it matters a lot': 8, 'leo and it&rsquo;s fun to think about': 5, 'cancer and it&rsquo;s fun to think about': 4, 'aquarius and it&rsquo;s fun to think about': 11, 'taurus but it doesn&rsquo;t matter': 2, 'gemini but it doesn&rsquo;t matter': 3, 'capricorn but it doesn&rsquo;t matter': 10, 'pisces': 12, 'aries but it doesn&rsquo;t matter': 1, 'capricorn and it&rsquo;s fun to think about': 10, 'sagittarius and it&rsquo;s fun to think about': 9, 'libra and it&rsquo;s fun to think about': 7, 'taurus and it&rsquo;s fun to think about': 2, 'scorpio but it doesn&rsquo;t matter': 8, 'gemini and it&rsquo;s fun to think about': 3, 'virgo but it doesn&rsquo;t matter': 6, 'cancer and it matters a lot': 4, 'aries and it&rsquo;s fun to think about': 1, 'aquarius': 11, 'pisces but it doesn&rsquo;t matter': 12, 'leo': 5, 'virgo and it&rsquo;s fun to think about': 6, 'scorpio and it&rsquo;s fun to think about': 8, 'aries and it matters a lot': 1, 'capricorn': 10, 'scorpio': 8, 'aquarius and it matters a lot': 11, 'aries': 1, 'virgo': 6, 'pisces and it matters a lot': 12, 'libra and it matters a lot': 7, 'gemini and it matters a lot': 3, 'capricorn and it matters a lot': 10, 'taurus and it matters a lot': 2, 'sagittarius and it matters a lot': 9, 'virgo and it matters a lot': 6, 'leo and it matters a lot': 5}\n",
      "48\n",
      "<class 'str'>\n",
      "<class 'int'>\n"
     ]
    }
   ],
   "source": [
    "import json;\n",
    "import pandas as pd;\n",
    "import scipy;\n",
    "from scipy import stats;\n",
    "# from apyori import apriori;\n",
    "import matplotlib.pyplot as plt;\n",
    "import numpy as np;\n",
    "import sklearn\n",
    "from sklearn.datasets import load_iris\n",
    "from sklearn import tree\n",
    "\n",
    "    \n",
    "data_path = 'okcupid-profiles-clean-signs.csv'\n",
    "df = pd.read_csv(data_path)\n",
    "\n",
    "df = df[df['status'] != 'unknown']\n",
    "help_dict = {}\n",
    "help_df = df['sign']\n",
    "sign_dict = {'aries': 1, 'taurus': 2, 'gemini': 3, 'cancer': 4, 'leo': 5, 'virgo': 6, 'libra': 7, 'scorpio': 8, 'sagittarius': 9, 'capricorn': 10, 'aquarius': 11, 'pisces': 12 }\n",
    "for i in range(df.shape[0]):\n",
    "    sign_entry = help_df.iloc[i]\n",
    "    if sign_entry not in help_dict:\n",
    "        for sign in sign_dict:\n",
    "            if sign in sign_entry: \n",
    "                help_dict[sign_entry] = sign_dict[sign]\n",
    "\n",
    "for key in help_dict:\n",
    "    df.loc[ df['sign'] == key, 'sign'] = help_dict[key]\n",
    "\n",
    "for i in range(df.shape[0]):\n",
    "    if type(df['sign'].iloc[i]) == \"<class 'str'>\": \n",
    "        print(df['sign'].iloc[i])\n",
    "df = pd.get_dummies(data=df[['age', 'body_type', 'status', 'drugs', 'drinks', 'sign', 'pets', 'height', 'diet']], columns=['body_type', 'status', 'drugs', 'drinks', 'pets', 'diet'])"
   ]
  },
  {
   "cell_type": "code",
   "execution_count": 108,
   "id": "28393b46-d4b5-4c68-af79-517e56b6884f",
   "metadata": {},
   "outputs": [
    {
     "name": "stdout",
     "output_type": "stream",
     "text": [
      "<class 'int'>\n",
      "fin\n"
     ]
    }
   ],
   "source": [
    "features0 = df.loc[:, df.columns!='sign'].to_numpy()\n",
    "features, test_data = features0.copy()[0:12680], features0.copy()[12681:]\n",
    "\n",
    "target0 = df[[\"sign\"]].to_numpy()\n",
    "target0 = target0.astype('int')\n",
    "\n",
    "target, goals = target0.copy()[0:12680], target0.copy()[12681:]\n",
    "\n",
    "clf = tree.DecisionTreeClassifier()\n",
    "clf = clf.fit(features, target)\n",
    "\n",
    "#plt.figure(figsize=(100,100))\n",
    "#tree.plot_tree(clf, fontsize=22)\n",
    "#plt.savefig('tree_high_dpi', dpi=100)\n"
   ]
  },
  {
   "cell_type": "code",
   "execution_count": null,
   "id": "b03eace4-5776-46de-80ef-7bb66d886d40",
   "metadata": {},
   "outputs": [],
   "source": []
  },
  {
   "cell_type": "code",
   "execution_count": 109,
   "id": "08e40af7-f421-441a-9bd8-16b41354de80",
   "metadata": {},
   "outputs": [
    {
     "name": "stdout",
     "output_type": "stream",
     "text": [
      "0.09528585757271815\n"
     ]
    }
   ],
   "source": [
    "def accuracy(preds, targets):\n",
    "    acc = 0\n",
    "    for i in range(preds.shape[0]):\n",
    "        if preds[i] == targets[i]:\n",
    "            acc +=1\n",
    "    return acc/preds.shape[0]\n",
    "\n",
    "predictions = clf.predict(test_data)\n",
    "print(accuracy(predictions, goals))\n",
    "    "
   ]
  },
  {
   "cell_type": "code",
   "execution_count": null,
   "id": "87ae0f1f-13c6-464f-b097-6cc4b8a5d5fd",
   "metadata": {},
   "outputs": [],
   "source": []
  }
 ],
 "metadata": {
  "kernelspec": {
   "display_name": "Python 3 (ipykernel)",
   "language": "python",
   "name": "python3"
  },
  "language_info": {
   "codemirror_mode": {
    "name": "ipython",
    "version": 3
   },
   "file_extension": ".py",
   "mimetype": "text/x-python",
   "name": "python",
   "nbconvert_exporter": "python",
   "pygments_lexer": "ipython3",
   "version": "3.9.12"
  }
 },
 "nbformat": 4,
 "nbformat_minor": 5
}
