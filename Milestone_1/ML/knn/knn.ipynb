{
 "cells": [
  {
   "cell_type": "code",
   "execution_count": 25,
   "id": "e52e32a6",
   "metadata": {},
   "outputs": [],
   "source": [
    "import pandas as pd\n",
    "import numpy as np\n",
    "import matplotlib.pyplot as plt\n",
    "from statistics import mean\n",
    "from nltk.corpus import wordnet as wn\n",
    "\n",
    "from sklearn.neighbors import KNeighborsClassifier"
   ]
  },
  {
   "cell_type": "markdown",
   "id": "0f4ecf72",
   "metadata": {},
   "source": [
    "## KNN for Income\n",
    "Given a variety of categories and seperated using one hot encoding"
   ]
  },
  {
   "cell_type": "code",
   "execution_count": 26,
   "id": "0377d33a",
   "metadata": {},
   "outputs": [
    {
     "name": "stdout",
     "output_type": "stream",
     "text": [
      "['single', 'taken', 'male', 'female', 'straight', 'gay', 'bisexual', 'graduated from postgrad program', 'graduated from college/university', 'working on postgrad', 'graduated from high school', 'working on college/university', 'graduated from two-year college', 'working on high school', 'retired', 'transportation', 'hospitality / travel', 'student', 'other', 'entertainment / media', 'banking / financial / real estate', 'military', 'executive / management', 'law / legal services', 'clerical / administrative', 'education / academia', 'medicine / health', 'artistic / musical / writer', 'computer / hardware / software', 'construction / craftsmanship', 'unemployed', 'political / government', 'sales / marketing / biz dev', 'science / tech / engineering', 'offspring_yes', 'offspring_no']\n"
     ]
    }
   ],
   "source": [
    "knn_data = pd.read_csv(\"okcupid_knn.csv\")\n",
    "print(list(knn_data.columns)[:-2])\n",
    "X = knn_data[list(knn_data.columns)[:-2]]\n",
    "y = knn_data[\"income\"]"
   ]
  },
  {
   "cell_type": "code",
   "execution_count": 27,
   "id": "fb1e60d7",
   "metadata": {},
   "outputs": [],
   "source": [
    "from sklearn.model_selection import train_test_split\n",
    "from sklearn.model_selection import cross_validate\n",
    "\n",
    "X_train, X_test, y_train, y_test = train_test_split(X, y, test_size=0.2, random_state=0)"
   ]
  },
  {
   "cell_type": "code",
   "execution_count": 28,
   "id": "072027b6",
   "metadata": {},
   "outputs": [
    {
     "name": "stdout",
     "output_type": "stream",
     "text": [
      "{'fit_time': array([0.00500345, 0.0030005 , 0.0039928 ]), 'score_time': array([1.01814222, 0.97047067, 1.00615716]), 'test_score': array([0.74712195, 0.73165496, 0.73263076])}\n",
      "0.7371358885017422\n"
     ]
    }
   ],
   "source": [
    "knn=KNeighborsClassifier()\n",
    "cv_results = cross_validate(knn, X_train, y_train, cv=3)\n",
    "print(cv_results)\n",
    "print(mean(cv_results[\"test_score\"]))"
   ]
  },
  {
   "cell_type": "code",
   "execution_count": 29,
   "id": "fd2b0c9d",
   "metadata": {},
   "outputs": [
    {
     "data": {
      "text/plain": [
       "22886.123333116502"
      ]
     },
     "execution_count": 29,
     "metadata": {},
     "output_type": "execute_result"
    }
   ],
   "source": [
    "sum(y_train)/len(y_train)"
   ]
  },
  {
   "cell_type": "markdown",
   "id": "cc164855",
   "metadata": {},
   "source": [
    "## KNN for Age\n",
    "Given a variety of categories and seperated using one hot encoding"
   ]
  },
  {
   "cell_type": "code",
   "execution_count": 30,
   "id": "08a638e8",
   "metadata": {},
   "outputs": [
    {
     "name": "stdout",
     "output_type": "stream",
     "text": [
      "['single', 'taken', 'male', 'female', 'straight', 'gay', 'bisexual', 'graduated from postgrad program', 'graduated from college/university', 'working on postgrad', 'graduated from high school', 'working on college/university', 'graduated from two-year college', 'working on high school', 'retired', 'transportation', 'hospitality / travel', 'student', 'other', 'entertainment / media', 'banking / financial / real estate', 'military', 'executive / management', 'law / legal services', 'clerical / administrative', 'education / academia', 'medicine / health', 'artistic / musical / writer', 'computer / hardware / software', 'construction / craftsmanship', 'unemployed', 'political / government', 'sales / marketing / biz dev', 'science / tech / engineering', 'offspring_yes', 'offspring_no']\n"
     ]
    }
   ],
   "source": [
    "knn_data = pd.read_csv(\"okcupid_knn.csv\")\n",
    "print(list(knn_data.columns)[:-2])\n",
    "X = knn_data[list(knn_data.columns)[:-2]]\n",
    "y = knn_data[\"age\"]"
   ]
  },
  {
   "cell_type": "code",
   "execution_count": 31,
   "id": "51c6e1ab",
   "metadata": {},
   "outputs": [],
   "source": [
    "X_train, X_test, y_train, y_test = train_test_split(X, y, test_size=0.2, random_state=0)"
   ]
  },
  {
   "cell_type": "code",
   "execution_count": 32,
   "id": "9d9d4981",
   "metadata": {},
   "outputs": [
    {
     "name": "stderr",
     "output_type": "stream",
     "text": [
      "C:\\Users\\Noah\\AppData\\Local\\Packages\\PythonSoftwareFoundation.Python.3.10_qbz5n2kfra8p0\\LocalCache\\local-packages\\Python310\\site-packages\\sklearn\\model_selection\\_split.py:684: UserWarning: The least populated class in y has only 1 members, which is less than n_splits=3.\n",
      "  warnings.warn(\n"
     ]
    },
    {
     "name": "stdout",
     "output_type": "stream",
     "text": [
      "{'fit_time': array([0.00599885, 0.00400138, 0.00500107]), 'score_time': array([1.06355572, 0.9730823 , 1.01804185]), 'test_score': array([0.05736585, 0.05425449, 0.05718189])}\n",
      "0.05626741049611901\n"
     ]
    }
   ],
   "source": [
    "knn=KNeighborsClassifier()\n",
    "cv_results = cross_validate(knn, X_train, y_train, cv=3)\n",
    "print(cv_results)\n",
    "print(mean(cv_results[\"test_score\"]))"
   ]
  }
 ],
 "metadata": {
  "kernelspec": {
   "display_name": "Python 3 (ipykernel)",
   "language": "python",
   "name": "python3"
  },
  "language_info": {
   "codemirror_mode": {
    "name": "ipython",
    "version": 3
   },
   "file_extension": ".py",
   "mimetype": "text/x-python",
   "name": "python",
   "nbconvert_exporter": "python",
   "pygments_lexer": "ipython3",
   "version": "3.10.8"
  }
 },
 "nbformat": 4,
 "nbformat_minor": 5
}
