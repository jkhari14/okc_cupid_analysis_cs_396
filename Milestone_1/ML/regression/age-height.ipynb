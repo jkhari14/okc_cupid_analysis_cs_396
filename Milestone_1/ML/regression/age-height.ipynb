{
 "cells": [
  {
   "cell_type": "code",
   "execution_count": 49,
   "id": "7cf146f1-48bb-4b49-9d67-def2afaa383e",
   "metadata": {},
   "outputs": [],
   "source": [
    "import pandas as pd\n",
    "import numpy as np\n",
    "import matplotlib.pyplot as plt\n",
    "from statistics import mean"
   ]
  },
  {
   "cell_type": "code",
   "execution_count": 50,
   "id": "c29cb55a-75d9-46aa-ab52-33fcb2d3f7e5",
   "metadata": {},
   "outputs": [],
   "source": [
    "df = pd.read_csv('age-height.csv')\n",
    "df_linear = df[['age','height']]"
   ]
  },
  {
   "cell_type": "code",
   "execution_count": 51,
   "id": "e1a8dff9-4257-4e97-bf03-6f7754072180",
   "metadata": {},
   "outputs": [
    {
     "name": "stdout",
     "output_type": "stream",
     "text": [
      "<class 'pandas.core.frame.DataFrame'>\n",
      "RangeIndex: 59822 entries, 0 to 59821\n",
      "Data columns (total 2 columns):\n",
      " #   Column  Non-Null Count  Dtype  \n",
      "---  ------  --------------  -----  \n",
      " 0   age     59822 non-null  int64  \n",
      " 1   height  59822 non-null  float64\n",
      "dtypes: float64(1), int64(1)\n",
      "memory usage: 934.8 KB\n"
     ]
    }
   ],
   "source": [
    "df_linear.info()"
   ]
  },
  {
   "cell_type": "code",
   "execution_count": 52,
   "id": "1dcf717b-cf7c-4371-a435-dae504a1a518",
   "metadata": {},
   "outputs": [],
   "source": [
    "X = np.array(df_linear['age']).reshape(-1,1)\n",
    "y = np.array(df_linear['height']).reshape(-1,1)"
   ]
  },
  {
   "cell_type": "code",
   "execution_count": 53,
   "id": "effc3a3f-ba93-40f7-b714-b1669dffe2bf",
   "metadata": {},
   "outputs": [],
   "source": [
    "from sklearn.model_selection import train_test_split\n",
    "X_train, X_test, y_train, y_test = train_test_split(X, y, test_size=0.2, random_state=0)"
   ]
  },
  {
   "cell_type": "code",
   "execution_count": 68,
   "id": "7ede776a-50a6-4322-ab75-f9f830871b10",
   "metadata": {},
   "outputs": [
    {
     "name": "stdout",
     "output_type": "stream",
     "text": [
      "0.000822974788547981\n",
      "[[-0.0078714]]\n"
     ]
    }
   ],
   "source": [
    "from sklearn.linear_model import LinearRegression\n",
    "linear_model = LinearRegression()\n",
    "linear_model.fit(X_train, y_train)\n",
    "print(linear_model.score(X_test, y_test))\n",
    "print(linear_model.coef_)"
   ]
  },
  {
   "cell_type": "code",
   "execution_count": 61,
   "id": "f92b3368-dd64-4862-8c5b-6b16ab00c500",
   "metadata": {},
   "outputs": [
    {
     "data": {
      "text/plain": [
       "{'fit_time': array([0.00100088, 0.00099993, 0.00100017]),\n",
       " 'score_time': array([0.00099921, 0.00100017, 0.        ]),\n",
       " 'test_score': array([ 3.20153724e-04, -7.55029029e-05,  5.02927365e-04])}"
      ]
     },
     "execution_count": 61,
     "metadata": {},
     "output_type": "execute_result"
    }
   ],
   "source": [
    "from sklearn.model_selection import cross_validate\n",
    "cv_results = cross_validate(linear_model, X_train, y_train, cv=3)\n",
    "cv_results"
   ]
  },
  {
   "cell_type": "code",
   "execution_count": 63,
   "id": "3efce52e-a0fd-4e54-9354-4752be3aed70",
   "metadata": {},
   "outputs": [
    {
     "data": {
      "text/plain": [
       "{'mean_fit_time': array([0.00180006, 0.00120029, 0.00080018, 0.0006    , 0.00100007,\n",
       "        0.        , 0.00100021, 0.00099998, 0.00100021, 0.00100021,\n",
       "        0.00080032, 0.00080023, 0.00100021, 0.00040021, 0.00100007,\n",
       "        0.00080032, 0.00080032, 0.00080042, 0.00100017, 0.00060005]),\n",
       " 'std_fit_time': array([1.59990793e-03, 4.00137969e-04, 4.00090285e-04, 4.89901406e-04,\n",
       "        2.86102295e-07, 0.00000000e+00, 4.86280395e-07, 5.09122765e-07,\n",
       "        5.91739352e-07, 9.53674316e-08, 4.00161772e-04, 4.00114074e-04,\n",
       "        2.78041453e-07, 4.90154495e-04, 1.16800773e-07, 4.00161828e-04,\n",
       "        4.00161942e-04, 4.00209896e-04, 4.26496120e-07, 4.89940362e-04]),\n",
       " 'mean_score_time': array([0.00040007, 0.        , 0.0004003 , 0.00040007, 0.        ,\n",
       "        0.00080051, 0.        , 0.        , 0.00020003, 0.        ,\n",
       "        0.00019999, 0.00019999, 0.00020003, 0.00060015, 0.        ,\n",
       "        0.00019994, 0.00019999, 0.00039983, 0.        , 0.00019999]),\n",
       " 'std_score_time': array([0.00048998, 0.        , 0.00049027, 0.00048998, 0.        ,\n",
       "        0.00040026, 0.        , 0.        , 0.00040007, 0.        ,\n",
       "        0.00039997, 0.00039997, 0.00040007, 0.00049002, 0.        ,\n",
       "        0.00039988, 0.00039997, 0.00048969, 0.        , 0.00039997]),\n",
       " 'param_alpha': masked_array(data=[1, 10, 100, 1000, 10000, 100000, 1000000, 10000000,\n",
       "                    100000000, 1000000000, 10000000000, 100000000000,\n",
       "                    1000000000000, 10000000000000, 100000000000000,\n",
       "                    1000000000000000, 10000000000000000,\n",
       "                    100000000000000000, 1000000000000000000,\n",
       "                    10000000000000000000],\n",
       "              mask=[False, False, False, False, False, False, False, False,\n",
       "                    False, False, False, False, False, False, False, False,\n",
       "                    False, False, False, False],\n",
       "        fill_value='?',\n",
       "             dtype=object),\n",
       " 'params': [{'alpha': 1},\n",
       "  {'alpha': 10},\n",
       "  {'alpha': 100},\n",
       "  {'alpha': 1000},\n",
       "  {'alpha': 10000},\n",
       "  {'alpha': 100000},\n",
       "  {'alpha': 1000000},\n",
       "  {'alpha': 10000000},\n",
       "  {'alpha': 100000000},\n",
       "  {'alpha': 1000000000},\n",
       "  {'alpha': 10000000000},\n",
       "  {'alpha': 100000000000},\n",
       "  {'alpha': 1000000000000},\n",
       "  {'alpha': 10000000000000},\n",
       "  {'alpha': 100000000000000},\n",
       "  {'alpha': 1000000000000000},\n",
       "  {'alpha': 10000000000000000},\n",
       "  {'alpha': 100000000000000000},\n",
       "  {'alpha': 1000000000000000000},\n",
       "  {'alpha': 10000000000000000000}],\n",
       " 'split0_test_score': array([ 7.10174175e-05,  7.10182366e-05,  7.10264266e-05,  7.11082708e-05,\n",
       "         7.19211095e-05,  7.95140136e-05,  1.19504275e-04,  6.45561406e-05,\n",
       "        -2.97857601e-05, -4.56301158e-05, -4.73116450e-05, -4.74808170e-05,\n",
       "        -4.74977444e-05, -4.74994373e-05, -4.74996065e-05, -4.74996235e-05,\n",
       "        -4.74996252e-05, -4.74996253e-05, -4.74996254e-05, -4.74996254e-05]),\n",
       " 'split1_test_score': array([ 5.70306436e-04,  5.70305741e-04,  5.70298787e-04,  5.70229242e-04,\n",
       "         5.69533310e-04,  5.62533891e-04,  4.93762813e-04,  1.93935669e-04,\n",
       "         1.42660262e-05, -1.20580509e-05, -1.48102374e-05, -1.50867050e-05,\n",
       "        -1.51143643e-05, -1.51171303e-05, -1.51174069e-05, -1.51174346e-05,\n",
       "        -1.51174374e-05, -1.51174376e-05, -1.51174377e-05, -1.51174377e-05]),\n",
       " 'split2_test_score': array([-2.89287715e-05, -2.89276517e-05, -2.89164549e-05, -2.88045531e-05,\n",
       "        -2.76920952e-05, -1.71958482e-05,  4.47527508e-05,  4.13777526e-05,\n",
       "        -3.42647276e-05, -4.77856518e-05, -4.92294778e-05, -4.93748250e-05,\n",
       "        -4.93893694e-05, -4.93908240e-05, -4.93909694e-05, -4.93909840e-05,\n",
       "        -4.93909854e-05, -4.93909856e-05, -4.93909856e-05, -4.93909856e-05]),\n",
       " 'split3_test_score': array([-1.51196747e-04, -1.51195154e-04, -1.51179233e-04, -1.51020106e-04,\n",
       "        -1.49437210e-04, -1.34411501e-04, -3.98354775e-05,  2.40244839e-05,\n",
       "        -2.93688465e-05, -4.01481539e-05, -4.13114189e-05, -4.14286444e-05,\n",
       "        -4.14403760e-05, -4.14415493e-05, -4.14416666e-05, -4.14416783e-05,\n",
       "        -4.14416795e-05, -4.14416796e-05, -4.14416797e-05, -4.14416797e-05]),\n",
       " 'split4_test_score': array([ 9.14250114e-04,  9.14248247e-04,  9.14229577e-04,  9.14042918e-04,\n",
       "         9.12180070e-04,  8.93919935e-04,  7.42629360e-04,  2.65105524e-04,\n",
       "         2.53916117e-05, -8.28544100e-06, -1.17888898e-05, -1.21406459e-05,\n",
       "        -1.21758357e-05, -1.21793548e-05, -1.21797067e-05, -1.21797419e-05,\n",
       "        -1.21797454e-05, -1.21797458e-05, -1.21797458e-05, -1.21797458e-05]),\n",
       " 'mean_test_score': array([ 2.75089690e-04,  2.75089884e-04,  2.75091820e-04,  2.75111154e-04,\n",
       "         2.75301037e-04,  2.76872098e-04,  2.72162744e-04,  1.17799914e-04,\n",
       "        -1.07523393e-05, -3.07814827e-05, -3.28903338e-05, -3.31023275e-05,\n",
       "        -3.31235380e-05, -3.31256591e-05, -3.31258712e-05, -3.31258925e-05,\n",
       "        -3.31258946e-05, -3.31258948e-05, -3.31258948e-05, -3.31258948e-05]),\n",
       " 'std_test_score': array([4.02857746e-04, 4.02856463e-04, 4.02843630e-04, 4.02715351e-04,\n",
       "        4.01437005e-04, 3.89083812e-04, 2.97593088e-04, 9.48310851e-05,\n",
       "        2.52744205e-05, 1.70528414e-05, 1.62358698e-05, 1.61543644e-05,\n",
       "        1.61462160e-05, 1.61454011e-05, 1.61453197e-05, 1.61453115e-05,\n",
       "        1.61453107e-05, 1.61453106e-05, 1.61453106e-05, 1.61453106e-05]),\n",
       " 'rank_test_score': array([ 6,  5,  4,  3,  2,  1,  7,  8,  9, 10, 11, 12, 13, 14, 15, 16, 17,\n",
       "        18, 19, 20])}"
      ]
     },
     "execution_count": 63,
     "metadata": {},
     "output_type": "execute_result"
    }
   ],
   "source": [
    "from sklearn.linear_model import Ridge\n",
    "from sklearn.model_selection import GridSearchCV\n",
    "parameters = {'alpha':[pow(10,i) for i in range(0, 20)]}\n",
    "clf = GridSearchCV(Ridge(), parameters,cv=5)\n",
    "clf.fit(X_train,y_train)\n",
    "clf.cv_results_"
   ]
  },
  {
   "cell_type": "code",
   "execution_count": 64,
   "id": "dd56b60e-8876-4cd6-8e42-7ea4d732ab1d",
   "metadata": {},
   "outputs": [
    {
     "data": {
      "text/plain": [
       "0.0008067157058080365"
      ]
     },
     "execution_count": 64,
     "metadata": {},
     "output_type": "execute_result"
    }
   ],
   "source": [
    "clf.score(X_test, y_test)"
   ]
  },
  {
   "cell_type": "code",
   "execution_count": 73,
   "id": "abab7712-90a0-4303-87f0-ce3643c04600",
   "metadata": {},
   "outputs": [
    {
     "data": {
      "text/plain": [
       "Text(0, 0.5, 'Height/inches')"
      ]
     },
     "execution_count": 73,
     "metadata": {},
     "output_type": "execute_result"
    },
    {
     "data": {
      "image/png": "[encoded data removed]",
      "text/plain": [
       "<Figure size 432x288 with 1 Axes>"
      ]
     },
     "metadata": {
      "needs_background": "light"
     },
     "output_type": "display_data"
    }
   ],
   "source": [
    "y_pred = linear_model.predict(X_test)\n",
    "plt.scatter(X_test, y_test, color='pink')\n",
    "plt.plot(X_test, y_pred, color='k')\n",
    "plt.xlabel('Age')\n",
    "plt.ylabel('Height/inches')"
   ]
  },
  {
   "cell_type": "code",
   "execution_count": null,
   "id": "e6d6a60a-ef77-4f47-a7a0-3e39f1f893bf",
   "metadata": {},
   "outputs": [],
   "source": []
  }
 ],
 "metadata": {
  "kernelspec": {
   "display_name": "Python 3 (ipykernel)",
   "language": "python",
   "name": "python3"
  },
  "language_info": {
   "codemirror_mode": {
    "name": "ipython",
    "version": 3
   },
   "file_extension": ".py",
   "mimetype": "text/x-python",
   "name": "python",
   "nbconvert_exporter": "python",
   "pygments_lexer": "ipython3",
   "version": "3.9.12"
  }
 },
 "nbformat": 4,
 "nbformat_minor": 5
}
