{
 "cells": [
  {
   "cell_type": "code",
   "execution_count": 93,
   "id": "47b5ca96-3d7a-4298-b3aa-3d77c919fac7",
   "metadata": {},
   "outputs": [],
   "source": [
    "import pandas as pd\n",
    "import numpy as np\n",
    "import matplotlib.pyplot as plt\n",
    "from statistics import mean"
   ]
  },
  {
   "cell_type": "code",
   "execution_count": 94,
   "id": "11437786-44df-43a3-a87b-6f34b7e18de3",
   "metadata": {},
   "outputs": [],
   "source": [
    "df = pd.read_csv('age-pets.csv')\n",
    "df_logistic = df[['age', 'pets']]"
   ]
  },
  {
   "cell_type": "code",
   "execution_count": 95,
   "id": "7fbf37e8-c3b8-4d0d-8e5f-bd7b64b4d248",
   "metadata": {},
   "outputs": [
    {
     "name": "stdout",
     "output_type": "stream",
     "text": [
      "<class 'pandas.core.frame.DataFrame'>\n",
      "RangeIndex: 62276 entries, 0 to 62275\n",
      "Data columns (total 2 columns):\n",
      " #   Column  Non-Null Count  Dtype \n",
      "---  ------  --------------  ----- \n",
      " 0   age     62276 non-null  int64 \n",
      " 1   pets    62276 non-null  object\n",
      "dtypes: int64(1), object(1)\n",
      "memory usage: 973.2+ KB\n"
     ]
    }
   ],
   "source": [
    "df_logistic.info()"
   ]
  },
  {
   "cell_type": "code",
   "execution_count": 96,
   "id": "776d2f6a-5423-4299-ae10-c69a1f10d1d9",
   "metadata": {},
   "outputs": [],
   "source": [
    "X = np.array(df_logistic['age']).reshape(-1,1)\n",
    "y = df_logistic['pets']"
   ]
  },
  {
   "cell_type": "code",
   "execution_count": 97,
   "id": "3a7e2835-dc3f-41e6-9476-9c4a3ee7c04c",
   "metadata": {},
   "outputs": [],
   "source": [
    "from sklearn.model_selection import train_test_split\n",
    "X_train, X_test, y_train, y_test = train_test_split(X, y, test_size=0.2, random_state=0)"
   ]
  },
  {
   "cell_type": "code",
   "execution_count": 98,
   "id": "8a466346-a51f-4c17-8c74-dd3351898e6b",
   "metadata": {},
   "outputs": [
    {
     "data": {
      "text/plain": [
       "{'fit_time': array([0.03800964, 0.03400803, 0.03400779]),\n",
       " 'score_time': array([0.01700258, 0.01700354, 0.01600361]),\n",
       " 'test_score': array([0.59402662, 0.59402662, 0.59406239])}"
      ]
     },
     "execution_count": 98,
     "metadata": {},
     "output_type": "execute_result"
    }
   ],
   "source": [
    "from sklearn.linear_model import LogisticRegression\n",
    "from sklearn.model_selection import cross_validate\n",
    "logistic_model = LogisticRegression(solver='liblinear')\n",
    "cv_results = cross_validate(logistic_model, X_train, y_train, cv=3)\n",
    "cv_results"
   ]
  },
  {
   "cell_type": "code",
   "execution_count": 99,
   "id": "4f3a327a-0ca6-4b0a-af07-c69e8f5ff48b",
   "metadata": {},
   "outputs": [
    {
     "data": {
      "text/plain": [
       "{'mean_fit_time': array([0.04601018, 0.03400771, 0.04634341, 0.03367432, 0.04567726,\n",
       "        0.03367384, 0.04667719, 0.03300818, 0.0483439 , 0.03234005,\n",
       "        0.04234385, 0.03300611, 0.04300952, 0.03300754, 0.04767736,\n",
       "        0.03400739, 0.04367606, 0.03300754, 0.04334243, 0.03234053]),\n",
       " 'std_fit_time': array([4.08316035e-03, 1.41433584e-03, 1.70023578e-03, 4.71595177e-04,\n",
       "        4.92272589e-03, 4.71258002e-04, 3.68258503e-03, 6.25769923e-07,\n",
       "        4.02823853e-03, 4.71539032e-04, 1.88784173e-03, 1.65563159e-06,\n",
       "        1.41427968e-03, 2.97360213e-07, 4.11076829e-03, 1.41405487e-03,\n",
       "        2.86830560e-03, 4.89903609e-07, 1.24723505e-03, 4.71538951e-04]),\n",
       " 'mean_score_time': array([0.01700393, 0.01733724, 0.01667031, 0.01733708, 0.01733692,\n",
       "        0.01767103, 0.01733716, 0.01666967, 0.01700385, 0.01666999,\n",
       "        0.01700385, 0.01700433, 0.01667031, 0.0170037 , 0.01667062,\n",
       "        0.01667031, 0.01700377, 0.01700385, 0.01700377, 0.01667031]),\n",
       " 'std_score_time': array([1.12391596e-07, 4.71595177e-04, 4.71595177e-04, 4.71707569e-04,\n",
       "        4.71820563e-04, 4.71651343e-04, 4.71482745e-04, 9.43134204e-04,\n",
       "        4.05233662e-07, 4.71539032e-04, 8.19746880e-04, 2.97360213e-07,\n",
       "        4.71763734e-04, 2.97360213e-07, 4.71482906e-04, 4.71595137e-04,\n",
       "        1.94667955e-07, 4.49566384e-07, 1.94667955e-07, 4.71595177e-04]),\n",
       " 'param_C': masked_array(data=[1, 1, 10, 10, 100, 100, 1000, 1000, 10000, 10000,\n",
       "                    100000, 100000, 1000000, 1000000, 10000000, 10000000,\n",
       "                    100000000, 100000000, 1000000000, 1000000000],\n",
       "              mask=[False, False, False, False, False, False, False, False,\n",
       "                    False, False, False, False, False, False, False, False,\n",
       "                    False, False, False, False],\n",
       "        fill_value='?',\n",
       "             dtype=object),\n",
       " 'param_penalty': masked_array(data=['l1', 'l2', 'l1', 'l2', 'l1', 'l2', 'l1', 'l2', 'l1',\n",
       "                    'l2', 'l1', 'l2', 'l1', 'l2', 'l1', 'l2', 'l1', 'l2',\n",
       "                    'l1', 'l2'],\n",
       "              mask=[False, False, False, False, False, False, False, False,\n",
       "                    False, False, False, False, False, False, False, False,\n",
       "                    False, False, False, False],\n",
       "        fill_value='?',\n",
       "             dtype=object),\n",
       " 'params': [{'C': 1, 'penalty': 'l1'},\n",
       "  {'C': 1, 'penalty': 'l2'},\n",
       "  {'C': 10, 'penalty': 'l1'},\n",
       "  {'C': 10, 'penalty': 'l2'},\n",
       "  {'C': 100, 'penalty': 'l1'},\n",
       "  {'C': 100, 'penalty': 'l2'},\n",
       "  {'C': 1000, 'penalty': 'l1'},\n",
       "  {'C': 1000, 'penalty': 'l2'},\n",
       "  {'C': 10000, 'penalty': 'l1'},\n",
       "  {'C': 10000, 'penalty': 'l2'},\n",
       "  {'C': 100000, 'penalty': 'l1'},\n",
       "  {'C': 100000, 'penalty': 'l2'},\n",
       "  {'C': 1000000, 'penalty': 'l1'},\n",
       "  {'C': 1000000, 'penalty': 'l2'},\n",
       "  {'C': 10000000, 'penalty': 'l1'},\n",
       "  {'C': 10000000, 'penalty': 'l2'},\n",
       "  {'C': 100000000, 'penalty': 'l1'},\n",
       "  {'C': 100000000, 'penalty': 'l2'},\n",
       "  {'C': 1000000000, 'penalty': 'l1'},\n",
       "  {'C': 1000000000, 'penalty': 'l2'}],\n",
       " 'split0_test_score': array([0.59402662, 0.59402662, 0.59402662, 0.59402662, 0.59402662,\n",
       "        0.59402662, 0.59402662, 0.59402662, 0.59402662, 0.59402662,\n",
       "        0.59402662, 0.59402662, 0.59402662, 0.59402662, 0.59402662,\n",
       "        0.59402662, 0.59402662, 0.59402662, 0.59402662, 0.59402662]),\n",
       " 'split1_test_score': array([0.59402662, 0.59402662, 0.59402662, 0.59402662, 0.59402662,\n",
       "        0.59402662, 0.59402662, 0.59402662, 0.59402662, 0.59402662,\n",
       "        0.59402662, 0.59402662, 0.59402662, 0.59402662, 0.59402662,\n",
       "        0.59402662, 0.59402662, 0.59402662, 0.59402662, 0.59402662]),\n",
       " 'split2_test_score': array([0.59406239, 0.59406239, 0.59406239, 0.59406239, 0.59406239,\n",
       "        0.59406239, 0.59406239, 0.59406239, 0.59406239, 0.59406239,\n",
       "        0.59406239, 0.59406239, 0.59406239, 0.59406239, 0.59406239,\n",
       "        0.59406239, 0.59406239, 0.59406239, 0.59406239, 0.59406239]),\n",
       " 'mean_test_score': array([0.59403854, 0.59403854, 0.59403854, 0.59403854, 0.59403854,\n",
       "        0.59403854, 0.59403854, 0.59403854, 0.59403854, 0.59403854,\n",
       "        0.59403854, 0.59403854, 0.59403854, 0.59403854, 0.59403854,\n",
       "        0.59403854, 0.59403854, 0.59403854, 0.59403854, 0.59403854]),\n",
       " 'std_test_score': array([1.68629912e-05, 1.68629912e-05, 1.68629912e-05, 1.68629912e-05,\n",
       "        1.68629912e-05, 1.68629912e-05, 1.68629912e-05, 1.68629912e-05,\n",
       "        1.68629912e-05, 1.68629912e-05, 1.68629912e-05, 1.68629912e-05,\n",
       "        1.68629912e-05, 1.68629912e-05, 1.68629912e-05, 1.68629912e-05,\n",
       "        1.68629912e-05, 1.68629912e-05, 1.68629912e-05, 1.68629912e-05]),\n",
       " 'rank_test_score': array([1, 1, 1, 1, 1, 1, 1, 1, 1, 1, 1, 1, 1, 1, 1, 1, 1, 1, 1, 1])}"
      ]
     },
     "execution_count": 99,
     "metadata": {},
     "output_type": "execute_result"
    }
   ],
   "source": [
    "from sklearn.model_selection import GridSearchCV\n",
    "parameters = {'C':[pow(10,i) for i in range(0, 10)],'penalty':['l1','l2']}\n",
    "clf = GridSearchCV(LogisticRegression(solver='liblinear'), parameters,cv=3)\n",
    "clf.fit(X_train,y_train)\n",
    "clf.cv_results_"
   ]
  },
  {
   "cell_type": "code",
   "execution_count": 100,
   "id": "2c20eff2-b185-4f40-83e3-02d05fa0cfff",
   "metadata": {},
   "outputs": [
    {
     "data": {
      "text/plain": [
       "0.5842967244701349"
      ]
     },
     "execution_count": 100,
     "metadata": {},
     "output_type": "execute_result"
    }
   ],
   "source": [
    "clf.score(X_test, y_test)"
   ]
  },
  {
   "cell_type": "code",
   "execution_count": 103,
   "id": "14c3bf15-9e6b-4826-9594-9298ee6a7572",
   "metadata": {},
   "outputs": [
    {
     "data": {
      "text/plain": [
       "Text(0.5, 0, 'Age')"
      ]
     },
     "execution_count": 103,
     "metadata": {},
     "output_type": "execute_result"
    },
    {
     "data": {
      "image/png": "[encoded data removed]",
      "text/plain": [
       "<Figure size 432x288 with 1 Axes>"
      ]
     },
     "metadata": {
      "needs_background": "light"
     },
     "output_type": "display_data"
    }
   ],
   "source": [
    "logistic_model.fit(X_train, y_train)\n",
    "y_pred = logistic_model.predict(X_test)\n",
    "plt.scatter(X_test, y_test, color='pink')\n",
    "plt.plot(X_test, y_pred, color='k')\n",
    "plt.xlabel('Age')"
   ]
  },
  {
   "cell_type": "code",
   "execution_count": null,
   "id": "ecce4b77-6aa5-48e5-86c5-35520dcbbe6c",
   "metadata": {},
   "outputs": [],
   "source": []
  }
 ],
 "metadata": {
  "kernelspec": {
   "display_name": "Python 3 (ipykernel)",
   "language": "python",
   "name": "python3"
  },
  "language_info": {
   "codemirror_mode": {
    "name": "ipython",
    "version": 3
   },
   "file_extension": ".py",
   "mimetype": "text/x-python",
   "name": "python",
   "nbconvert_exporter": "python",
   "pygments_lexer": "ipython3",
   "version": "3.9.12"
  }
 },
 "nbformat": 4,
 "nbformat_minor": 5
}
