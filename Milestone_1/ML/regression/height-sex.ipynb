{
 "cells": [
  {
   "cell_type": "code",
   "execution_count": 1,
   "id": "22283c5a-96f5-4495-9dff-991780361eb4",
   "metadata": {},
   "outputs": [],
   "source": [
    "import pandas as pd\n",
    "import numpy as np\n",
    "import matplotlib.pyplot as plt\n",
    "from statistics import mean"
   ]
  },
  {
   "cell_type": "code",
   "execution_count": 2,
   "id": "7d90c67d-91a6-4c56-a9fb-b1b907967322",
   "metadata": {},
   "outputs": [],
   "source": [
    "df = pd.read_csv('age-height.csv')\n",
    "df_logistic = df[['height', 'sex']]"
   ]
  },
  {
   "cell_type": "code",
   "execution_count": 3,
   "id": "27a9998c-907b-49a1-b130-7c9ef82446da",
   "metadata": {},
   "outputs": [
    {
     "name": "stdout",
     "output_type": "stream",
     "text": [
      "<class 'pandas.core.frame.DataFrame'>\n",
      "RangeIndex: 59822 entries, 0 to 59821\n",
      "Data columns (total 2 columns):\n",
      " #   Column  Non-Null Count  Dtype  \n",
      "---  ------  --------------  -----  \n",
      " 0   height  59822 non-null  float64\n",
      " 1   sex     59822 non-null  object \n",
      "dtypes: float64(1), object(1)\n",
      "memory usage: 934.8+ KB\n"
     ]
    }
   ],
   "source": [
    "df_logistic.info()"
   ]
  },
  {
   "cell_type": "code",
   "execution_count": 4,
   "id": "bfd973ef-e163-49af-bc82-3b82e6a54f64",
   "metadata": {},
   "outputs": [],
   "source": [
    "X = np.array(df_logistic['height']).reshape(-1,1)\n",
    "y = df_logistic['sex']"
   ]
  },
  {
   "cell_type": "code",
   "execution_count": 5,
   "id": "a327273a-9c74-4aeb-a3c6-21c5780c94f9",
   "metadata": {},
   "outputs": [],
   "source": [
    "from sklearn.model_selection import train_test_split\n",
    "X_train, X_test, y_train, y_test = train_test_split(X, y, test_size=0.2, random_state=0)"
   ]
  },
  {
   "cell_type": "code",
   "execution_count": 6,
   "id": "1c959082-e45a-4459-954f-9f48b277fc84",
   "metadata": {},
   "outputs": [
    {
     "data": {
      "text/plain": [
       "{'fit_time': array([0.03300714, 0.0330081 , 0.03100705]),\n",
       " 'score_time': array([0.0140028 , 0.01400304, 0.01400304]),\n",
       " 'test_score': array([0.83438852, 0.82760782, 0.8282347 ])}"
      ]
     },
     "execution_count": 6,
     "metadata": {},
     "output_type": "execute_result"
    }
   ],
   "source": [
    "from sklearn.linear_model import LogisticRegression\n",
    "from sklearn.model_selection import cross_validate\n",
    "logistic_model = LogisticRegression(solver='liblinear')\n",
    "cv_results = cross_validate(logistic_model, X_train, y_train, cv=3)\n",
    "cv_results"
   ]
  },
  {
   "cell_type": "code",
   "execution_count": 16,
   "id": "670d4e8b-c0a0-48fc-b5f1-91988dd0b692",
   "metadata": {},
   "outputs": [
    {
     "name": "stderr",
     "output_type": "stream",
     "text": [
      "E:\\anaconda3\\lib\\site-packages\\sklearn\\svm\\_base.py:1206: ConvergenceWarning: Liblinear failed to converge, increase the number of iterations.\n",
      "  warnings.warn(\n",
      "E:\\anaconda3\\lib\\site-packages\\sklearn\\svm\\_base.py:1206: ConvergenceWarning: Liblinear failed to converge, increase the number of iterations.\n",
      "  warnings.warn(\n",
      "E:\\anaconda3\\lib\\site-packages\\sklearn\\svm\\_base.py:1206: ConvergenceWarning: Liblinear failed to converge, increase the number of iterations.\n",
      "  warnings.warn(\n",
      "E:\\anaconda3\\lib\\site-packages\\sklearn\\svm\\_base.py:1206: ConvergenceWarning: Liblinear failed to converge, increase the number of iterations.\n",
      "  warnings.warn(\n",
      "E:\\anaconda3\\lib\\site-packages\\sklearn\\svm\\_base.py:1206: ConvergenceWarning: Liblinear failed to converge, increase the number of iterations.\n",
      "  warnings.warn(\n",
      "E:\\anaconda3\\lib\\site-packages\\sklearn\\svm\\_base.py:1206: ConvergenceWarning: Liblinear failed to converge, increase the number of iterations.\n",
      "  warnings.warn(\n",
      "E:\\anaconda3\\lib\\site-packages\\sklearn\\svm\\_base.py:1206: ConvergenceWarning: Liblinear failed to converge, increase the number of iterations.\n",
      "  warnings.warn(\n",
      "E:\\anaconda3\\lib\\site-packages\\sklearn\\svm\\_base.py:1206: ConvergenceWarning: Liblinear failed to converge, increase the number of iterations.\n",
      "  warnings.warn(\n",
      "E:\\anaconda3\\lib\\site-packages\\sklearn\\svm\\_base.py:1206: ConvergenceWarning: Liblinear failed to converge, increase the number of iterations.\n",
      "  warnings.warn(\n",
      "E:\\anaconda3\\lib\\site-packages\\sklearn\\svm\\_base.py:1206: ConvergenceWarning: Liblinear failed to converge, increase the number of iterations.\n",
      "  warnings.warn(\n",
      "E:\\anaconda3\\lib\\site-packages\\sklearn\\svm\\_base.py:1206: ConvergenceWarning: Liblinear failed to converge, increase the number of iterations.\n",
      "  warnings.warn(\n",
      "E:\\anaconda3\\lib\\site-packages\\sklearn\\svm\\_base.py:1206: ConvergenceWarning: Liblinear failed to converge, increase the number of iterations.\n",
      "  warnings.warn(\n",
      "E:\\anaconda3\\lib\\site-packages\\sklearn\\svm\\_base.py:1206: ConvergenceWarning: Liblinear failed to converge, increase the number of iterations.\n",
      "  warnings.warn(\n",
      "E:\\anaconda3\\lib\\site-packages\\sklearn\\svm\\_base.py:1206: ConvergenceWarning: Liblinear failed to converge, increase the number of iterations.\n",
      "  warnings.warn(\n",
      "E:\\anaconda3\\lib\\site-packages\\sklearn\\svm\\_base.py:1206: ConvergenceWarning: Liblinear failed to converge, increase the number of iterations.\n",
      "  warnings.warn(\n",
      "E:\\anaconda3\\lib\\site-packages\\sklearn\\svm\\_base.py:1206: ConvergenceWarning: Liblinear failed to converge, increase the number of iterations.\n",
      "  warnings.warn(\n",
      "E:\\anaconda3\\lib\\site-packages\\sklearn\\svm\\_base.py:1206: ConvergenceWarning: Liblinear failed to converge, increase the number of iterations.\n",
      "  warnings.warn(\n",
      "E:\\anaconda3\\lib\\site-packages\\sklearn\\svm\\_base.py:1206: ConvergenceWarning: Liblinear failed to converge, increase the number of iterations.\n",
      "  warnings.warn(\n",
      "E:\\anaconda3\\lib\\site-packages\\sklearn\\svm\\_base.py:1206: ConvergenceWarning: Liblinear failed to converge, increase the number of iterations.\n",
      "  warnings.warn(\n",
      "E:\\anaconda3\\lib\\site-packages\\sklearn\\svm\\_base.py:1206: ConvergenceWarning: Liblinear failed to converge, increase the number of iterations.\n",
      "  warnings.warn(\n",
      "E:\\anaconda3\\lib\\site-packages\\sklearn\\svm\\_base.py:1206: ConvergenceWarning: Liblinear failed to converge, increase the number of iterations.\n",
      "  warnings.warn(\n",
      "E:\\anaconda3\\lib\\site-packages\\sklearn\\svm\\_base.py:1206: ConvergenceWarning: Liblinear failed to converge, increase the number of iterations.\n",
      "  warnings.warn(\n",
      "E:\\anaconda3\\lib\\site-packages\\sklearn\\svm\\_base.py:1206: ConvergenceWarning: Liblinear failed to converge, increase the number of iterations.\n",
      "  warnings.warn(\n",
      "E:\\anaconda3\\lib\\site-packages\\sklearn\\svm\\_base.py:1206: ConvergenceWarning: Liblinear failed to converge, increase the number of iterations.\n",
      "  warnings.warn(\n",
      "E:\\anaconda3\\lib\\site-packages\\sklearn\\svm\\_base.py:1206: ConvergenceWarning: Liblinear failed to converge, increase the number of iterations.\n",
      "  warnings.warn(\n",
      "E:\\anaconda3\\lib\\site-packages\\sklearn\\svm\\_base.py:1206: ConvergenceWarning: Liblinear failed to converge, increase the number of iterations.\n",
      "  warnings.warn(\n",
      "E:\\anaconda3\\lib\\site-packages\\sklearn\\svm\\_base.py:1206: ConvergenceWarning: Liblinear failed to converge, increase the number of iterations.\n",
      "  warnings.warn(\n",
      "E:\\anaconda3\\lib\\site-packages\\sklearn\\svm\\_base.py:1206: ConvergenceWarning: Liblinear failed to converge, increase the number of iterations.\n",
      "  warnings.warn(\n",
      "E:\\anaconda3\\lib\\site-packages\\sklearn\\svm\\_base.py:1206: ConvergenceWarning: Liblinear failed to converge, increase the number of iterations.\n",
      "  warnings.warn(\n",
      "E:\\anaconda3\\lib\\site-packages\\sklearn\\svm\\_base.py:1206: ConvergenceWarning: Liblinear failed to converge, increase the number of iterations.\n",
      "  warnings.warn(\n"
     ]
    },
    {
     "data": {
      "text/plain": [
       "{'mean_fit_time': array([0.09435463, 0.03167359, 0.09468802, 0.03134004, 0.0916872 ,\n",
       "        0.03167391, 0.09302092, 0.03267384, 0.09502133, 0.03200714,\n",
       "        0.09168704, 0.03167383, 0.09102066, 0.03134028, 0.09168712,\n",
       "        0.03234061, 0.09402124, 0.03234037, 0.09303538, 0.03434118]),\n",
       " 'std_fit_time': array([0.00170006, 0.00047148, 0.00309194, 0.00047143, 0.00094325,\n",
       "        0.00047154, 0.00216027, 0.00047171, 0.00355988, 0.00081653,\n",
       "        0.00124785, 0.00047165, 0.00141467, 0.0004716 , 0.00170052,\n",
       "        0.00047182, 0.00141484, 0.00047165, 0.00081679, 0.00262562]),\n",
       " 'mean_score_time': array([0.01333642, 0.01366981, 0.01366981, 0.01366989, 0.0133361 ,\n",
       "        0.01366973, 0.01333626, 0.01366981, 0.01400304, 0.01333626,\n",
       "        0.01333666, 0.0133361 , 0.01366981, 0.01366997, 0.01366973,\n",
       "        0.01433651, 0.01366965, 0.01366973, 0.01398873, 0.01400328]),\n",
       " 'std_score_time': array([4.71370354e-04, 4.71595177e-04, 4.71426560e-04, 4.71651343e-04,\n",
       "        4.71595177e-04, 4.71707529e-04, 4.70976993e-04, 4.71763734e-04,\n",
       "        1.94667955e-07, 4.71314168e-04, 4.71539032e-04, 4.71426560e-04,\n",
       "        4.71426560e-04, 4.71538951e-04, 4.71707689e-04, 4.71595177e-04,\n",
       "        4.71314248e-04, 4.71370354e-04, 2.00621360e-05, 1.94667955e-07]),\n",
       " 'param_C': masked_array(data=[1, 1, 10, 10, 100, 100, 1000, 1000, 10000, 10000,\n",
       "                    100000, 100000, 1000000, 1000000, 10000000, 10000000,\n",
       "                    100000000, 100000000, 1000000000, 1000000000],\n",
       "              mask=[False, False, False, False, False, False, False, False,\n",
       "                    False, False, False, False, False, False, False, False,\n",
       "                    False, False, False, False],\n",
       "        fill_value='?',\n",
       "             dtype=object),\n",
       " 'param_penalty': masked_array(data=['l1', 'l2', 'l1', 'l2', 'l1', 'l2', 'l1', 'l2', 'l1',\n",
       "                    'l2', 'l1', 'l2', 'l1', 'l2', 'l1', 'l2', 'l1', 'l2',\n",
       "                    'l1', 'l2'],\n",
       "              mask=[False, False, False, False, False, False, False, False,\n",
       "                    False, False, False, False, False, False, False, False,\n",
       "                    False, False, False, False],\n",
       "        fill_value='?',\n",
       "             dtype=object),\n",
       " 'params': [{'C': 1, 'penalty': 'l1'},\n",
       "  {'C': 1, 'penalty': 'l2'},\n",
       "  {'C': 10, 'penalty': 'l1'},\n",
       "  {'C': 10, 'penalty': 'l2'},\n",
       "  {'C': 100, 'penalty': 'l1'},\n",
       "  {'C': 100, 'penalty': 'l2'},\n",
       "  {'C': 1000, 'penalty': 'l1'},\n",
       "  {'C': 1000, 'penalty': 'l2'},\n",
       "  {'C': 10000, 'penalty': 'l1'},\n",
       "  {'C': 10000, 'penalty': 'l2'},\n",
       "  {'C': 100000, 'penalty': 'l1'},\n",
       "  {'C': 100000, 'penalty': 'l2'},\n",
       "  {'C': 1000000, 'penalty': 'l1'},\n",
       "  {'C': 1000000, 'penalty': 'l2'},\n",
       "  {'C': 10000000, 'penalty': 'l1'},\n",
       "  {'C': 10000000, 'penalty': 'l2'},\n",
       "  {'C': 100000000, 'penalty': 'l1'},\n",
       "  {'C': 100000000, 'penalty': 'l2'},\n",
       "  {'C': 1000000000, 'penalty': 'l1'},\n",
       "  {'C': 1000000000, 'penalty': 'l2'}],\n",
       " 'split0_test_score': array([0.83125431, 0.83438852, 0.83125431, 0.83438852, 0.83125431,\n",
       "        0.83438852, 0.83125431, 0.83438852, 0.83125431, 0.83438852,\n",
       "        0.83125431, 0.83438852, 0.83125431, 0.83438852, 0.83125431,\n",
       "        0.83438852, 0.83125431, 0.83438852, 0.83125431, 0.83438852]),\n",
       " 'split1_test_score': array([0.82309428, 0.82760782, 0.82309428, 0.82760782, 0.82309428,\n",
       "        0.82760782, 0.82309428, 0.82760782, 0.82309428, 0.82760782,\n",
       "        0.82309428, 0.82760782, 0.82309428, 0.82760782, 0.82309428,\n",
       "        0.82760782, 0.82309428, 0.82760782, 0.82309428, 0.82760782]),\n",
       " 'split2_test_score': array([0.82409729, 0.8282347 , 0.82409729, 0.8282347 , 0.82409729,\n",
       "        0.8282347 , 0.82409729, 0.8282347 , 0.82409729, 0.8282347 ,\n",
       "        0.82409729, 0.8282347 , 0.82409729, 0.8282347 , 0.82409729,\n",
       "        0.8282347 , 0.82409729, 0.8282347 , 0.82409729, 0.8282347 ]),\n",
       " 'mean_test_score': array([0.82614863, 0.83007701, 0.82614863, 0.83007701, 0.82614863,\n",
       "        0.83007701, 0.82614863, 0.83007701, 0.82614863, 0.83007701,\n",
       "        0.82614863, 0.83007701, 0.82614863, 0.83007701, 0.82614863,\n",
       "        0.83007701, 0.82614863, 0.83007701, 0.82614863, 0.83007701]),\n",
       " 'std_test_score': array([0.00363341, 0.00305941, 0.00363341, 0.00305941, 0.00363341,\n",
       "        0.00305941, 0.00363341, 0.00305941, 0.00363341, 0.00305941,\n",
       "        0.00363341, 0.00305941, 0.00363341, 0.00305941, 0.00363341,\n",
       "        0.00305941, 0.00363341, 0.00305941, 0.00363341, 0.00305941]),\n",
       " 'rank_test_score': array([11,  1, 11,  1, 11,  1, 11,  1, 11,  1, 11,  1, 11,  1, 11,  1, 11,\n",
       "         1, 11,  1])}"
      ]
     },
     "execution_count": 16,
     "metadata": {},
     "output_type": "execute_result"
    }
   ],
   "source": [
    "from sklearn.model_selection import GridSearchCV\n",
    "parameters = {'C':[pow(10,i) for i in range(0, 10)],'penalty':['l1','l2']}\n",
    "clf = GridSearchCV(LogisticRegression(solver='liblinear'), parameters,cv=3)\n",
    "clf.fit(X_train,y_train)\n",
    "clf.cv_results_"
   ]
  },
  {
   "cell_type": "code",
   "execution_count": 8,
   "id": "f822abc4-4999-4296-b464-d3da9bbf43aa",
   "metadata": {},
   "outputs": [
    {
     "data": {
      "text/plain": [
       "0.8342666109486001"
      ]
     },
     "execution_count": 8,
     "metadata": {},
     "output_type": "execute_result"
    }
   ],
   "source": [
    "clf.score(X_test, y_test)"
   ]
  },
  {
   "cell_type": "code",
   "execution_count": 34,
   "id": "f2f337a7-8dd6-4b66-83e5-57eddbe1c99c",
   "metadata": {},
   "outputs": [
    {
     "data": {
      "text/plain": [
       "Text(0, 0.5, 'Probability of being a male')"
      ]
     },
     "execution_count": 34,
     "metadata": {},
     "output_type": "execute_result"
    },
    {
     "data": {
      "image/png": "[encoded data removed]",
      "text/plain": [
       "<Figure size 432x288 with 1 Axes>"
      ]
     },
     "metadata": {
      "needs_background": "light"
     },
     "output_type": "display_data"
    }
   ],
   "source": [
    "logistic_model.fit(X_train, y_train)\n",
    "y_pred_proba = logistic_model.predict_proba(X_test)[:,1]\n",
    "plt.scatter(X_test, y_pred_proba, color='pink')\n",
    "plt.xlabel('Height/inches')\n",
    "plt.ylabel('Probability of being a male')"
   ]
  },
  {
   "cell_type": "code",
   "execution_count": null,
   "id": "26eb0a84-fec5-4afd-9c8d-bef22f8abc6b",
   "metadata": {},
   "outputs": [],
   "source": []
  }
 ],
 "metadata": {
  "kernelspec": {
   "display_name": "Python 3 (ipykernel)",
   "language": "python",
   "name": "python3"
  },
  "language_info": {
   "codemirror_mode": {
    "name": "ipython",
    "version": 3
   },
   "file_extension": ".py",
   "mimetype": "text/x-python",
   "name": "python",
   "nbconvert_exporter": "python",
   "pygments_lexer": "ipython3",
   "version": "3.9.12"
  }
 },
 "nbformat": 4,
 "nbformat_minor": 5
}
